{
 "cells": [
  {
   "cell_type": "code",
   "execution_count": 1,
   "id": "9fea9607",
   "metadata": {},
   "outputs": [],
   "source": [
    "import spacy"
   ]
  },
  {
   "cell_type": "code",
   "execution_count": 2,
   "id": "b6db220f",
   "metadata": {},
   "outputs": [
    {
     "data": {
      "text/plain": [
       "<spacy.lang.de.German at 0x1ed7fc24be0>"
      ]
     },
     "execution_count": 2,
     "metadata": {},
     "output_type": "execute_result"
    }
   ],
   "source": [
    "spacy.load('de_core_news_sm')"
   ]
  },
  {
   "cell_type": "code",
   "execution_count": 3,
   "id": "d41d469b",
   "metadata": {},
   "outputs": [],
   "source": [
    "nlp=spacy.load('en_core_web_sm')"
   ]
  },
  {
   "cell_type": "code",
   "execution_count": 4,
   "id": "6e559971",
   "metadata": {},
   "outputs": [],
   "source": [
    "text =\"What I´ve felt, what I´ve known, turn the pages, turn the stone, behind the door, should I open it for you?\""
   ]
  },
  {
   "cell_type": "code",
   "execution_count": 5,
   "id": "af788fc9",
   "metadata": {},
   "outputs": [],
   "source": [
    "doc = nlp(text)"
   ]
  },
  {
   "cell_type": "code",
   "execution_count": 6,
   "id": "161d2aa8",
   "metadata": {},
   "outputs": [],
   "source": [
    "a_token= doc[8]"
   ]
  },
  {
   "cell_type": "code",
   "execution_count": 7,
   "id": "ecea9710",
   "metadata": {},
   "outputs": [
    {
     "name": "stdout",
     "output_type": "stream",
     "text": [
      "turn\n"
     ]
    }
   ],
   "source": [
    "print(a_token.text)"
   ]
  },
  {
   "cell_type": "code",
   "execution_count": null,
   "id": "8967f52f",
   "metadata": {},
   "outputs": [],
   "source": []
  }
 ],
 "metadata": {
  "kernelspec": {
   "display_name": "Python 3 (ipykernel)",
   "language": "python",
   "name": "python3"
  },
  "language_info": {
   "codemirror_mode": {
    "name": "ipython",
    "version": 3
   },
   "file_extension": ".py",
   "mimetype": "text/x-python",
   "name": "python",
   "nbconvert_exporter": "python",
   "pygments_lexer": "ipython3",
   "version": "3.8.13"
  }
 },
 "nbformat": 4,
 "nbformat_minor": 5
}
