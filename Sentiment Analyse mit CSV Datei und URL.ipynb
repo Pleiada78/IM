{
 "cells": [
  {
   "cell_type": "code",
   "execution_count": 1,
   "id": "aaf41add",
   "metadata": {},
   "outputs": [],
   "source": [
    "#!pip install pandas==1.3.5\n",
    "#!pip install spacy==3.2.0\n",
    "#!pip install spacytextblob\n",
    "#!python -m spacy download en_core_web_sm"
   ]
  },
  {
   "cell_type": "code",
   "execution_count": 2,
   "id": "9b4d3027",
   "metadata": {},
   "outputs": [],
   "source": [
    "import spacy\n",
    "from spacytextblob.spacytextblob import SpacyTextBlob\n",
    "import pandas as pd\n",
    "from bs4 import BeautifulSoup\n",
    "import requests"
   ]
  },
  {
   "cell_type": "code",
   "execution_count": 3,
   "id": "9e79bc33",
   "metadata": {},
   "outputs": [
    {
     "data": {
      "text/plain": [
       "<spacytextblob.spacytextblob.SpacyTextBlob at 0x1851f4efee0>"
      ]
     },
     "execution_count": 3,
     "metadata": {},
     "output_type": "execute_result"
    }
   ],
   "source": [
    "nlp = spacy.load('en_core_web_sm')\n",
    "nlp.add_pipe('spacytextblob')"
   ]
  },
  {
   "cell_type": "code",
   "execution_count": 4,
   "id": "ded62e63",
   "metadata": {},
   "outputs": [],
   "source": [
    "df = pd.read_csv(\"Desktop/urls.csv\") #Pfad anpassen \n",
    "urls = df[\"Address\"].tolist()\n",
    "url_sent_score = []\n",
    "url_sent_label = []\n",
    "total_pos = []\n",
    "total_neg = []"
   ]
  },
  {
   "cell_type": "code",
   "execution_count": 5,
   "id": "632bcfe7",
   "metadata": {},
   "outputs": [],
   "source": [
    "for count, x in enumerate(urls):\n",
    "  url = x\n",
    "  \n",
    "  headers = {'user-agent': 'Mozilla/5.0 (Macintosh; Intel Mac OS X 10_13_0) AppleWebKit/537.36 (KHTML, like Gecko) Chrome/78.0.3904.108 Safari/537.36'}\n",
    "  res = requests.get(url,headers=headers)\n",
    "  html_page = res.text\n",
    "\n",
    "  soup = BeautifulSoup(html_page, 'html.parser')\n",
    "  for script in soup([\"script\", \"style\",\"meta\",\"label\",\"header\",\"footer\"]):\n",
    "    script.decompose()\n",
    "  page_text = (soup.get_text()).lower()\n",
    "  page_text = page_text.strip().replace(\"  \",\"\")\n",
    "  page_text = \"\".join([s for s in page_text.splitlines(True) if s.strip(\"\\r\\n\")])"
   ]
  },
  {
   "cell_type": "code",
   "execution_count": 6,
   "id": "37784e2e",
   "metadata": {},
   "outputs": [],
   "source": [
    "doc = nlp(page_text)\n",
    "sentiment = doc._.blob.polarity\n",
    "sentiment = round(sentiment,2)\n",
    "\n",
    "if sentiment > 0:\n",
    "  sent_label = \"Positive\"\n",
    "else:\n",
    "  sent_label = \"Negative\"\n",
    "\n",
    "url_sent_label.append(sent_label)\n",
    "url_sent_score.append(sentiment)"
   ]
  },
  {
   "cell_type": "code",
   "execution_count": 7,
   "id": "07c3ac6d",
   "metadata": {},
   "outputs": [],
   "source": [
    "positive_words = []\n",
    "negative_words = []\n",
    "\n",
    "for x in doc._.blob.sentiment_assessments.assessments:\n",
    "  if x[1] > 0:\n",
    "    positive_words.append(x[0][0])\n",
    "  elif x[1] < 0:\n",
    "    negative_words.append(x[0][0])\n",
    "  else:\n",
    "    pass\n",
    "\n",
    "total_pos.append(', '.join(set(positive_words)))\n",
    "total_neg.append(', '.join(set(negative_words)))"
   ]
  },
  {
   "cell_type": "code",
   "execution_count": 8,
   "id": "53c41a76",
   "metadata": {},
   "outputs": [
    {
     "data": {
      "text/html": [
       "<div>\n",
       "<style scoped>\n",
       "    .dataframe tbody tr th:only-of-type {\n",
       "        vertical-align: middle;\n",
       "    }\n",
       "\n",
       "    .dataframe tbody tr th {\n",
       "        vertical-align: top;\n",
       "    }\n",
       "\n",
       "    .dataframe thead th {\n",
       "        text-align: right;\n",
       "    }\n",
       "</style>\n",
       "<table border=\"1\" class=\"dataframe\">\n",
       "  <thead>\n",
       "    <tr style=\"text-align: right;\">\n",
       "      <th></th>\n",
       "      <th>Address</th>\n",
       "      <th>Sentiment Score</th>\n",
       "      <th>Sentiment Label</th>\n",
       "      <th>Positive Words</th>\n",
       "      <th>Negative Words</th>\n",
       "    </tr>\n",
       "  </thead>\n",
       "  <tbody>\n",
       "    <tr>\n",
       "      <th>0</th>\n",
       "      <td>https://www.songtexte.com/songtext/ed-sheeran/...</td>\n",
       "      <td>0.33</td>\n",
       "      <td>Positive</td>\n",
       "      <td>fast, sweet, new, hot, best, okay, perfect, lo...</td>\n",
       "      <td>slow, sorry, sour, impossible, dark</td>\n",
       "    </tr>\n",
       "  </tbody>\n",
       "</table>\n",
       "</div>"
      ],
      "text/plain": [
       "                                             Address  Sentiment Score  \\\n",
       "0  https://www.songtexte.com/songtext/ed-sheeran/...             0.33   \n",
       "\n",
       "  Sentiment Label                                     Positive Words  \\\n",
       "0        Positive  fast, sweet, new, hot, best, okay, perfect, lo...   \n",
       "\n",
       "                        Negative Words  \n",
       "0  slow, sorry, sour, impossible, dark  "
      ]
     },
     "execution_count": 8,
     "metadata": {},
     "output_type": "execute_result"
    }
   ],
   "source": [
    "df[\"Sentiment Score\"] = url_sent_score\n",
    "df[\"Sentiment Label\"] = url_sent_label\n",
    "df[\"Positive Words\"] = total_pos\n",
    "df[\"Negative Words\"] = total_neg\n",
    "\n",
    "#optional export to CSV\n",
    "df.to_csv(\"sentiment.csv\")\n",
    "df"
   ]
  },
  {
   "cell_type": "code",
   "execution_count": null,
   "id": "01e70dd9",
   "metadata": {},
   "outputs": [],
   "source": []
  }
 ],
 "metadata": {
  "kernelspec": {
   "display_name": "Python 3 (ipykernel)",
   "language": "python",
   "name": "python3"
  },
  "language_info": {
   "codemirror_mode": {
    "name": "ipython",
    "version": 3
   },
   "file_extension": ".py",
   "mimetype": "text/x-python",
   "name": "python",
   "nbconvert_exporter": "python",
   "pygments_lexer": "ipython3",
   "version": "3.9.12"
  }
 },
 "nbformat": 4,
 "nbformat_minor": 5
}
