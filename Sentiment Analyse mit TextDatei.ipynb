{
 "cells": [
  {
   "cell_type": "code",
   "execution_count": 2,
   "id": "511ccacd",
   "metadata": {},
   "outputs": [],
   "source": [
    "import spacy\n",
    "from spacy import displacy\n",
    "from collections import Counter\n",
    "from spacytextblob.spacytextblob import SpacyTextBlob\n",
    "import pandas as pd\n",
    "from bs4 import BeautifulSoup\n",
    "import requests"
   ]
  },
  {
   "cell_type": "code",
   "execution_count": 3,
   "id": "bac0fe4b",
   "metadata": {},
   "outputs": [
    {
     "data": {
      "text/plain": [
       "<spacytextblob.spacytextblob.SpacyTextBlob at 0x1ae75c2dcd0>"
      ]
     },
     "execution_count": 3,
     "metadata": {},
     "output_type": "execute_result"
    }
   ],
   "source": [
    "nlp = spacy.load('en_core_web_sm')\n",
    "nlp.add_pipe('spacytextblob')"
   ]
  },
  {
   "cell_type": "code",
   "execution_count": 10,
   "id": "7fb2fe98",
   "metadata": {},
   "outputs": [],
   "source": [
    "liste = pd.read_csv(\"liste.csv\")\n",
    "df = open(\"Shape of you - Ed Sheeran1.csv\").read()\n",
    "df = df.replace(\"\\n\", \" \").strip()\n",
    "url_sent_score = []\n",
    "url_sent_label = []\n",
    "total_pos = []\n",
    "total_neg = []"
   ]
  },
  {
   "cell_type": "code",
   "execution_count": 11,
   "id": "4f3eba7f",
   "metadata": {},
   "outputs": [],
   "source": [
    "doc = nlp(df)\n",
    "sentiment = doc._.blob.polarity\n",
    "sentiment = round(sentiment,2)\n",
    "\n",
    "if sentiment > 0:\n",
    "  sent_label = \"Positive\"\n",
    "else:\n",
    "  sent_label = \"Negative\"\n",
    "\n",
    "url_sent_label.append(sent_label)\n",
    "url_sent_score.append(sentiment)"
   ]
  },
  {
   "cell_type": "code",
   "execution_count": 12,
   "id": "e2d8bad3",
   "metadata": {},
   "outputs": [],
   "source": [
    "positive_words = []\n",
    "negative_words = []\n",
    "\n",
    "for x in doc._.blob.sentiment_assessments.assessments:\n",
    "  if x[1] > 0:\n",
    "    positive_words.append(x[0][0])\n",
    "  elif x[1] < 0:\n",
    "    negative_words.append(x[0][0])\n",
    "  else:\n",
    "    pass\n",
    "\n",
    "total_pos.append(', '.join(set(positive_words)))\n",
    "total_neg.append(', '.join(set(negative_words)))"
   ]
  },
  {
   "cell_type": "code",
   "execution_count": 13,
   "id": "cbbf48f1",
   "metadata": {},
   "outputs": [
    {
     "data": {
      "text/plain": [
       "\"Address, The club isn't the best place to find a lover So the bar is where I go\""
      ]
     },
     "execution_count": 13,
     "metadata": {},
     "output_type": "execute_result"
    }
   ],
   "source": [
    "df"
   ]
  },
  {
   "cell_type": "code",
   "execution_count": 14,
   "id": "83afdbe1",
   "metadata": {},
   "outputs": [
    {
     "data": {
      "text/html": [
       "<div>\n",
       "<style scoped>\n",
       "    .dataframe tbody tr th:only-of-type {\n",
       "        vertical-align: middle;\n",
       "    }\n",
       "\n",
       "    .dataframe tbody tr th {\n",
       "        vertical-align: top;\n",
       "    }\n",
       "\n",
       "    .dataframe thead th {\n",
       "        text-align: right;\n",
       "    }\n",
       "</style>\n",
       "<table border=\"1\" class=\"dataframe\">\n",
       "  <thead>\n",
       "    <tr style=\"text-align: right;\">\n",
       "      <th></th>\n",
       "      <th>Adresse</th>\n",
       "      <th>Sentiment Score</th>\n",
       "      <th>Sentiment Label</th>\n",
       "      <th>Positive Words</th>\n",
       "      <th>Negative Words</th>\n",
       "    </tr>\n",
       "  </thead>\n",
       "  <tbody>\n",
       "    <tr>\n",
       "      <th>0</th>\n",
       "      <td>NaN</td>\n",
       "      <td>1.0</td>\n",
       "      <td>Positive</td>\n",
       "      <td>best</td>\n",
       "      <td></td>\n",
       "    </tr>\n",
       "  </tbody>\n",
       "</table>\n",
       "</div>"
      ],
      "text/plain": [
       "  Adresse  Sentiment Score Sentiment Label Positive Words Negative Words\n",
       "0     NaN              1.0        Positive           best               "
      ]
     },
     "execution_count": 14,
     "metadata": {},
     "output_type": "execute_result"
    }
   ],
   "source": [
    "liste[\"Sentiment Score\"] = url_sent_score\n",
    "liste[\"Sentiment Label\"] = url_sent_label\n",
    "liste[\"Positive Words\"] = total_pos\n",
    "liste[\"Negative Words\"] = total_neg\n",
    "\n",
    "#optional export to CSV\n",
    "liste.to_csv(\"sentiment.csv\")\n",
    "liste"
   ]
  },
  {
   "cell_type": "code",
   "execution_count": null,
   "id": "40d02e64",
   "metadata": {},
   "outputs": [],
   "source": []
  }
 ],
 "metadata": {
  "kernelspec": {
   "display_name": "Python 3 (ipykernel)",
   "language": "python",
   "name": "python3"
  },
  "language_info": {
   "codemirror_mode": {
    "name": "ipython",
    "version": 3
   },
   "file_extension": ".py",
   "mimetype": "text/x-python",
   "name": "python",
   "nbconvert_exporter": "python",
   "pygments_lexer": "ipython3",
   "version": "3.8.13"
  }
 },
 "nbformat": 4,
 "nbformat_minor": 5
}
