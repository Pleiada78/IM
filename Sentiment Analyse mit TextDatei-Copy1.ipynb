{
 "cells": [
  {
   "cell_type": "code",
   "execution_count": 1,
   "id": "511ccacd",
   "metadata": {},
   "outputs": [],
   "source": [
    "import spacy\n",
    "from spacy import displacy\n",
    "from collections import Counter\n",
    "from spacytextblob.spacytextblob import SpacyTextBlob\n",
    "import pandas as pd\n",
    "from bs4 import BeautifulSoup\n",
    "import requests"
   ]
  },
  {
   "cell_type": "code",
   "execution_count": 2,
   "id": "bac0fe4b",
   "metadata": {},
   "outputs": [
    {
     "data": {
      "text/plain": [
       "<spacytextblob.spacytextblob.SpacyTextBlob at 0x15be7384d30>"
      ]
     },
     "execution_count": 2,
     "metadata": {},
     "output_type": "execute_result"
    }
   ],
   "source": [
    "nlp = spacy.load('en_core_web_sm')\n",
    "nlp.add_pipe('spacytextblob')"
   ]
  },
  {
   "cell_type": "code",
   "execution_count": 7,
   "id": "7fb2fe98",
   "metadata": {},
   "outputs": [],
   "source": [
    "page_text = pd.read_csv(\"urls.csv\")\n",
    "urls = page_text[\"Address\"].tolist()\n",
    "url_sent_score = []\n",
    "url_sent_label = []\n",
    "total_pos = []\n",
    "total_neg = []"
   ]
  },
  {
   "cell_type": "code",
   "execution_count": 8,
   "id": "4f3eba7f",
   "metadata": {},
   "outputs": [],
   "source": [
    "doc = nlp(\"The club isn't the best place to find a lover \\\n",
    "So the bar is where I go \\\n",
    "Me and my friends at the table doing shots\\\n",
    "Drinking fast and then we talk slow\\\n",
    "And you come over and start up a conversation with just me\\\n",
    "And trust me I'll give it a chance now\\\n",
    "Take my hand, stop, put Van the Man on the jukebox\\\n",
    "And then we start to dance, and now I'm singing like\\\n",
    "Girl, you know I want your love\\\n",
    "Your love was handmade for somebody like me\\\n",
    "Come on now, follow my lead\\\n",
    "I may be crazy, don't mind me\\\n",
    "Say, boy, let's not talk too much\\\n",
    "Grab on my waist and put that body on me\\\n",
    "Come on now, follow my lead\\\n",
    "Come, come on now, follow my lead\\\n",
    "I'm in love with the shape of you\\\n",
    "We push and pull like a magnet do\\\n",
    "Although my heart is falling too\\\n",
    "I'm in love with your body\\\n",
    "And last night you were in my room\\\n",
    "And now my bedsheets smell like you\\\n",
    "Every day discovering something brand new\\\n",
    "I'm in love with your body\\\n",
    "Oh-I-oh-I-oh-I-oh-I\\\n",
    "I'm in love with your body\\\n",
    "Oh-I-oh-I-oh-I-oh-I\\\n",
    "I'm in love with your body\\\n",
    "Oh-I-oh-I-oh-I-oh-I\\\n",
    "I'm in love with your body\\\n",
    "Every day discovering something brand new\\\n",
    "I'm in love with the shape of you\\\n",
    "One week in we let the story begin\\\n",
    "We're going out on our first date\\\n",
    "You and me are thrifty, so go all you can eat\\\n",
    "Fill up your bag and I fill up a plate\\\n",
    "We talk for hours and hours about the sweet and the sour\\\n",
    "And how your family is doing okay\\\n",
    "Leave and get in a taxi, then kiss in the backseat\\\n",
    "Tell the driver make the radio play, and I'm singing like\\\n",
    "Girl, you know I want your love\\\n",
    "Your love was handmade for somebody like me\\\n",
    "Come on now, follow my lead\\\n",
    "I may be crazy, don't mind me\\\n",
    "Say, boy, let's not talk too much\\\n",
    "Grab on my waist and put that body on me\\\n",
    "Come on now, follow my lead\\\n",
    "Come, come on now, follow my lead\\\n",
    "I'm in love with the shape of you\\\n",
    "We push and pull like a magnet do\\\n",
    "Although my heart is falling too\\\n",
    "I'm in love with your body\\\n",
    "And last night you were in my room\\\n",
    "And now my bedsheets smell like you\\\n",
    "Every day discovering something brand new\\\n",
    "I'm in love with your body\\\n",
    "Oh-I-oh-I-oh-I-oh-I\\\n",
    "I'm in love with your body\\\n",
    "Oh-I-oh-I-oh-I-oh-I\\\n",
    "I'm in love with your body\\\n",
    "Oh-I-oh-I-oh-I-oh-I\\\n",
    "I'm in love with your body\\\n",
    "Every day discovering something brand new\\\n",
    "I'm in love with the shape of you\\\n",
    "Come on, be my baby, come on\\\n",
    "Come on, be my baby, come on\\\n",
    "Come on, be my baby, come on\\\n",
    "Come on, be my baby, come on\\\n",
    "Come on, be my baby, come on\\\n",
    "Come on, be my baby, come on\\\n",
    "Come on, be my baby, come on\\\n",
    "Come on, be my baby, come on\\\n",
    "I'm in love with the shape of you\\\n",
    "We push and pull like a magnet do\\\n",
    "Although my heart is falling too\\\n",
    "I'm in love with your body\\\n",
    "Last night you were in my room\\\n",
    "And now my bedsheets smell like you\\\n",
    "Every day discovering something brand new\\\n",
    "I'm in love with your body\\\n",
    "Come on, be my baby, come on\\\n",
    "Come on, be my baby, come on\\\n",
    "I'm in love with your body\\\n",
    "Come on, be my baby, come on\\\n",
    "Come on, be my baby, come on\\\n",
    "I'm in love with your body\\\n",
    "Come on, be my baby, come on\\\n",
    "Come on, be my baby, come on\\\n",
    "I'm in love with your body\\\n",
    "Every day discovering something brand new\\\n",
    "I'm in love with the shape of you\")\n",
    "sentiment = doc._.blob.polarity\n",
    "sentiment = round(sentiment,2)\n",
    "\n",
    "if sentiment > 0:\n",
    "  sent_label = \"Positive\"\n",
    "else:\n",
    "  sent_label = \"Negative\"\n",
    "\n",
    "url_sent_label.append(sent_label)\n",
    "url_sent_score.append(sentiment)"
   ]
  },
  {
   "cell_type": "code",
   "execution_count": 9,
   "id": "e2d8bad3",
   "metadata": {},
   "outputs": [],
   "source": [
    "positive_words = []\n",
    "negative_words = []\n",
    "\n",
    "for x in doc._.blob.sentiment_assessments.assessments:\n",
    "  if x[1] > 0:\n",
    "    positive_words.append(x[0][0])\n",
    "  elif x[1] < 0:\n",
    "    negative_words.append(x[0][0])\n",
    "  else:\n",
    "    pass\n",
    "\n",
    "total_pos.append(', '.join(set(positive_words)))\n",
    "total_neg.append(', '.join(set(negative_words)))"
   ]
  },
  {
   "cell_type": "code",
   "execution_count": 10,
   "id": "83afdbe1",
   "metadata": {},
   "outputs": [
    {
     "data": {
      "text/html": [
       "<div>\n",
       "<style scoped>\n",
       "    .dataframe tbody tr th:only-of-type {\n",
       "        vertical-align: middle;\n",
       "    }\n",
       "\n",
       "    .dataframe tbody tr th {\n",
       "        vertical-align: top;\n",
       "    }\n",
       "\n",
       "    .dataframe thead th {\n",
       "        text-align: right;\n",
       "    }\n",
       "</style>\n",
       "<table border=\"1\" class=\"dataframe\">\n",
       "  <thead>\n",
       "    <tr style=\"text-align: right;\">\n",
       "      <th></th>\n",
       "      <th>Address</th>\n",
       "      <th>Sentiment Score</th>\n",
       "      <th>Sentiment Label</th>\n",
       "      <th>Positive Words</th>\n",
       "      <th>Negative Words</th>\n",
       "    </tr>\n",
       "  </thead>\n",
       "  <tbody>\n",
       "    <tr>\n",
       "      <th>0</th>\n",
       "      <td>The club isn't the best place to find a lover\\...</td>\n",
       "      <td>0.39</td>\n",
       "      <td>Positive</td>\n",
       "      <td>fast, sweet, love, best, first</td>\n",
       "      <td>crazy</td>\n",
       "    </tr>\n",
       "  </tbody>\n",
       "</table>\n",
       "</div>"
      ],
      "text/plain": [
       "                                             Address  Sentiment Score  \\\n",
       "0  The club isn't the best place to find a lover\\...             0.39   \n",
       "\n",
       "  Sentiment Label                  Positive Words Negative Words  \n",
       "0        Positive  fast, sweet, love, best, first          crazy  "
      ]
     },
     "execution_count": 10,
     "metadata": {},
     "output_type": "execute_result"
    }
   ],
   "source": [
    "page_text[\"Sentiment Score\"] = url_sent_score\n",
    "page_text[\"Sentiment Label\"] = url_sent_label\n",
    "page_text[\"Positive Words\"] = total_pos\n",
    "page_text[\"Negative Words\"] = total_neg\n",
    "\n",
    "#optional export to CSV\n",
    "page_text.to_csv(\"sentiment.csv\")\n",
    "page_text"
   ]
  },
  {
   "cell_type": "code",
   "execution_count": null,
   "id": "40d02e64",
   "metadata": {},
   "outputs": [],
   "source": []
  },
  {
   "cell_type": "code",
   "execution_count": null,
   "id": "89bd4fe2",
   "metadata": {},
   "outputs": [],
   "source": []
  }
 ],
 "metadata": {
  "kernelspec": {
   "display_name": "Python 3 (ipykernel)",
   "language": "python",
   "name": "python3"
  },
  "language_info": {
   "codemirror_mode": {
    "name": "ipython",
    "version": 3
   },
   "file_extension": ".py",
   "mimetype": "text/x-python",
   "name": "python",
   "nbconvert_exporter": "python",
   "pygments_lexer": "ipython3",
   "version": "3.9.12"
  }
 },
 "nbformat": 4,
 "nbformat_minor": 5
}
